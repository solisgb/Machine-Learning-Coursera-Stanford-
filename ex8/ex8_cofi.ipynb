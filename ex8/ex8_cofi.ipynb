{
 "cells": [
  {
   "cell_type": "markdown",
   "metadata": {},
   "source": [
    "# Exercise 8 | Anomaly Detection and Collaborative Filtering"
   ]
  },
  {
   "cell_type": "code",
   "execution_count": 1,
   "metadata": {},
   "outputs": [],
   "source": [
    "graphics_toolkit ('gnuplot');"
   ]
  },
  {
   "cell_type": "markdown",
   "metadata": {},
   "source": [
    "## Part 1: Load Example Dataset "
   ]
  },
  {
   "cell_type": "code",
   "execution_count": 6,
   "metadata": {},
   "outputs": [],
   "source": [
    "load ('ex8_movies.mat');"
   ]
  },
  {
   "cell_type": "code",
   "execution_count": 6,
   "metadata": {},
   "outputs": [],
   "source": [
    "%  We can \"visualize\" the ratings matrix by plotting it with imagesc\n",
    "imagesc(Y);\n",
    "ylabel('Movies');\n",
    "xlabel('Users');"
   ]
  },
  {
   "cell_type": "markdown",
   "metadata": {},
   "source": [
    "## Part 2: Part 2: Collaborative Filtering Cost Function"
   ]
  },
  {
   "cell_type": "code",
   "execution_count": 7,
   "metadata": {},
   "outputs": [],
   "source": [
    "%  Load pre-trained weights (X, Theta, num_users, num_movies, num_features)\n",
    "load ('ex8_movieParams.mat');"
   ]
  },
  {
   "cell_type": "code",
   "execution_count": 8,
   "metadata": {},
   "outputs": [],
   "source": [
    "%  Reduce the data set size so that this runs faster\n",
    "num_users = 4; num_movies = 5; num_features = 3;\n",
    "X = X(1:num_movies, 1:num_features);\n",
    "Theta = Theta(1:num_users, 1:num_features);\n",
    "Y = Y(1:num_movies, 1:num_users);\n",
    "R = R(1:num_movies, 1:num_users);"
   ]
  },
  {
   "cell_type": "code",
   "execution_count": 9,
   "metadata": {},
   "outputs": [],
   "source": [
    "lambda = 0;\n",
    "params = [X(:) ; Theta(:)];"
   ]
  },
  {
   "cell_type": "code",
   "execution_count": 10,
   "metadata": {},
   "outputs": [],
   "source": [
    "% Unfold the U and W matrices from params\n",
    "X = reshape(params(1:num_movies*num_features), num_movies, num_features);"
   ]
  },
  {
   "cell_type": "code",
   "execution_count": 11,
   "metadata": {},
   "outputs": [],
   "source": [
    "Theta = reshape(params(num_movies*num_features+1:end), num_users, num_features);"
   ]
  },
  {
   "cell_type": "code",
   "execution_count": 12,
   "metadata": {},
   "outputs": [
    {
     "name": "stdout",
     "output_type": "stream",
     "text": [
      "J 22.224604"
     ]
    }
   ],
   "source": [
    "J = sum(sum((R==1) .* ((X * Theta' - Y) .^ 2))) / 2;\n",
    "fprintf('J %f', J);"
   ]
  },
  {
   "cell_type": "markdown",
   "metadata": {},
   "source": [
    "## Part 3: Collaborative Filtering Gradient"
   ]
  },
  {
   "cell_type": "code",
   "execution_count": 13,
   "metadata": {},
   "outputs": [
    {
     "name": "stdout",
     "output_type": "stream",
     "text": [
      "size(X_grad) 5 3"
     ]
    }
   ],
   "source": [
    "X_grad = (R==1) .* (X * Theta' - Y) * Theta + lambda * X;\n",
    "fprintf('size(X_grad) %d %d', size(X_grad));"
   ]
  },
  {
   "cell_type": "code",
   "execution_count": 14,
   "metadata": {},
   "outputs": [
    {
     "name": "stdout",
     "output_type": "stream",
     "text": [
      "size(Theta_grad) 4 3"
     ]
    }
   ],
   "source": [
    "Theta_grad = (R==1)' .* (X * Theta' - Y)' * X + lambda * Theta;\n",
    "fprintf('size(Theta_grad) %d %d', size(Theta_grad));"
   ]
  },
  {
   "cell_type": "markdown",
   "metadata": {},
   "source": [
    "## Part 4: Collaborative Filtering Cost Regularization"
   ]
  },
  {
   "cell_type": "code",
   "execution_count": 16,
   "metadata": {},
   "outputs": [
    {
     "name": "stdout",
     "output_type": "stream",
     "text": [
      "size(j_reg_term) 1 1"
     ]
    }
   ],
   "source": [
    "j_reg_term = lambda * (sum(sum(Theta .^ 2)) + sum(sum(X .^ 2))) / 2;\n",
    "fprintf('size(j_reg_term) %d %d', size(j_reg_term));"
   ]
  }
 ],
 "metadata": {
  "kernelspec": {
   "display_name": "Octave",
   "language": "octave",
   "name": "octave"
  },
  "language_info": {
   "file_extension": ".m",
   "help_links": [
    {
     "text": "GNU Octave",
     "url": "https://www.gnu.org/software/octave/support.html"
    },
    {
     "text": "Octave Kernel",
     "url": "https://github.com/Calysto/octave_kernel"
    },
    {
     "text": "MetaKernel Magics",
     "url": "https://metakernel.readthedocs.io/en/latest/source/README.html"
    }
   ],
   "mimetype": "text/x-octave",
   "name": "octave",
   "version": "6.2.0"
  }
 },
 "nbformat": 4,
 "nbformat_minor": 4
}
