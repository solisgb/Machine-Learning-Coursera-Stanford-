{
 "cells": [
  {
   "cell_type": "markdown",
   "metadata": {},
   "source": [
    "### Machine learning ex 3"
   ]
  },
  {
   "cell_type": "markdown",
   "metadata": {},
   "source": [
    "#### dataset"
   ]
  },
  {
   "cell_type": "code",
   "execution_count": 1,
   "metadata": {},
   "outputs": [],
   "source": [
    "%% Setup the parameters you will use for this part of the exercise\n",
    "input_layer_size  = 400;  % 20x20 Input Images of Digits\n",
    "num_labels = 10;          % 10 labels, from 1 to 10"
   ]
  },
  {
   "cell_type": "code",
   "execution_count": 2,
   "metadata": {},
   "outputs": [],
   "source": [
    "% X 5000*400, u 5000*1\n",
    "load('ex3data1.mat'); % training data stored in arrays X, y"
   ]
  },
  {
   "cell_type": "code",
   "execution_count": 3,
   "metadata": {},
   "outputs": [
    {
     "name": "stdout",
     "output_type": "stream",
     "text": [
      "size X 5000 400, size y = 5000 1\n"
     ]
    }
   ],
   "source": [
    "fprintf('size X %d %d, size y = %d %d\\n',size(X), size(y));\n",
    "m = size(X, 1);"
   ]
  },
  {
   "cell_type": "code",
   "execution_count": 4,
   "metadata": {},
   "outputs": [],
   "source": [
    "% Randomly select 100 data points to display\n",
    "rand_indices = randperm(m);"
   ]
  },
  {
   "cell_type": "code",
   "execution_count": 5,
   "metadata": {},
   "outputs": [],
   "source": [
    "sel = X(rand_indices(1:100), :);"
   ]
  },
  {
   "cell_type": "code",
   "execution_count": 6,
   "metadata": {},
   "outputs": [
    {
     "data": {
      "image/png": "[encoded data removed]",
      "text/plain": [
       "<IPython.core.display.Image object>"
      ]
     },
     "metadata": {},
     "output_type": "display_data"
    }
   ],
   "source": [
    "graphics_toolkit ('gnuplot');\n",
    "displayData(sel);"
   ]
  },
  {
   "cell_type": "code",
   "execution_count": 7,
   "metadata": {},
   "outputs": [],
   "source": [
    "% Test case for lrCostFunction\n",
    "theta_t = [-2; -1; 1; 2];\n",
    "X_t = [ones(5,1) reshape(1:15,5,3)/10];\n",
    "y_t = ([1;0;1;0;1] >= 0.5);\n",
    "lambda_t = 3;"
   ]
  },
  {
   "cell_type": "code",
   "execution_count": 8,
   "metadata": {},
   "outputs": [
    {
     "name": "stdout",
     "output_type": "stream",
     "text": [
      "size X_t = 5 4\n",
      "size y_t = 5 1\n"
     ]
    }
   ],
   "source": [
    "fprintf('size X_t = %d %d\\n',size(X_t))\n",
    "fprintf('size y_t = %d %d\\n',size(y_t))"
   ]
  },
  {
   "cell_type": "markdown",
   "metadata": {},
   "source": [
    "#### logistic regression cost function"
   ]
  },
  {
   "cell_type": "code",
   "execution_count": 9,
   "metadata": {},
   "outputs": [],
   "source": [
    "[J grad] = lrCostFunction(theta_t, X_t, y_t, lambda_t);"
   ]
  },
  {
   "cell_type": "code",
   "execution_count": 10,
   "metadata": {},
   "outputs": [
    {
     "name": "stdout",
     "output_type": "stream",
     "text": [
      "J = 2.534819, grad = 0.146561 -0.548558 0.724722 1.398003\n"
     ]
    }
   ],
   "source": [
    "fprintf('J = %f, grad = %f %f %f %f\\n',J, grad)"
   ]
  },
  {
   "cell_type": "markdown",
   "metadata": {},
   "source": [
    "#### Part 2b: One-vs-All Training"
   ]
  },
  {
   "cell_type": "code",
   "execution_count": 11,
   "metadata": {},
   "outputs": [],
   "source": [
    "lambda = 0.1;"
   ]
  },
  {
   "cell_type": "code",
   "execution_count": 12,
   "metadata": {},
   "outputs": [
    {
     "name": "stdout",
     "output_type": "stream",
     "text": [
      "Iteration    50 | Cost: 1.393408e-02\n",
      "Iteration    50 | Cost: 5.725244e-02\n",
      "Iteration    50 | Cost: 6.370451e-02\n",
      "Iteration    50 | Cost: 3.584608e-02\n",
      "Iteration    50 | Cost: 6.184004e-02\n",
      "Iteration    50 | Cost: 2.187578e-02\n",
      "Iteration    50 | Cost: 3.549928e-02\n",
      "Iteration    50 | Cost: 8.587966e-02\n",
      "Iteration    50 | Cost: 8.014099e-02\n",
      "Iteration    50 | Cost: 9.989594e-03\n"
     ]
    }
   ],
   "source": [
    "[all_theta] = oneVsAll(X, y, num_labels, lambda);"
   ]
  },
  {
   "cell_type": "code",
   "execution_count": 13,
   "metadata": {},
   "outputs": [
    {
     "name": "stdout",
     "output_type": "stream",
     "text": [
      "size X 5000 400, size y = 5000 1\n",
      "size all_theta = 10 401\n"
     ]
    }
   ],
   "source": [
    "fprintf('size X %d %d, size y = %d %d\\n',size(X), size(y))\n",
    "fprintf('size all_theta = %d %d\\n',size(all_theta))"
   ]
  },
  {
   "cell_type": "markdown",
   "metadata": {},
   "source": [
    "#### Part 3: Predict for One-Vs-All"
   ]
  },
  {
   "cell_type": "code",
   "execution_count": 14,
   "metadata": {},
   "outputs": [
    {
     "name": "stdout",
     "output_type": "stream",
     "text": [
      "firt all_theta(1,1:5) = -3.351407 0.000000 0.000000 0.000088 -0.000811\n"
     ]
    }
   ],
   "source": [
    "fprintf('firt all_theta(1,1:5) = %f %f %f %f %f\\n',all_theta(1,1:5))"
   ]
  },
  {
   "cell_type": "code",
   "execution_count": 15,
   "metadata": {},
   "outputs": [
    {
     "name": "stdout",
     "output_type": "stream",
     "text": [
      "firt cp_all_theta(1,1:5) = -3.351407 0.000000 0.000000 0.000088 -0.000811\n",
      "size all_theta = 10 401\n",
      "size X 5000 400\n"
     ]
    }
   ],
   "source": [
    "cp_all_theta = all_theta;\n",
    "fprintf('firt cp_all_theta(1,1:5) = %f %f %f %f %f\\n', cp_all_theta(1,1:5))\n",
    "fprintf('size all_theta = %d %d\\n',size(all_theta))\n",
    "fprintf('size X %d %d\\n',size(X))"
   ]
  },
  {
   "cell_type": "code",
   "execution_count": 16,
   "metadata": {},
   "outputs": [
    {
     "name": "stdout",
     "output_type": "stream",
     "text": [
      "size cp_X 5000 401\n",
      "size cp_all_theta = 10 401\n"
     ]
    }
   ],
   "source": [
    "cp_X = [ones(m, 1) X];\n",
    "fprintf('size cp_X %d %d\\n',size(cp_X))\n",
    "fprintf('size cp_all_theta = %d %d\\n',size(cp_all_theta))"
   ]
  },
  {
   "cell_type": "code",
   "execution_count": 17,
   "metadata": {},
   "outputs": [],
   "source": [
    "% z\n",
    "z = cp_all_theta * cp_X';\n",
    "hx = sigmoid(z);"
   ]
  },
  {
   "cell_type": "code",
   "execution_count": 18,
   "metadata": {},
   "outputs": [
    {
     "name": "stdout",
     "output_type": "stream",
     "text": [
      "ans =\n",
      "\n",
      "     10   5000\n",
      "\n"
     ]
    }
   ],
   "source": [
    "size(hx)"
   ]
  },
  {
   "cell_type": "code",
   "execution_count": 19,
   "metadata": {},
   "outputs": [
    {
     "name": "stdout",
     "output_type": "stream",
     "text": [
      "ans =\n",
      "\n",
      "   1.9054e-16   2.0767e-13   7.2954e-16   2.7623e-19   2.7124e-20\n",
      "   3.5182e-04   2.8388e-05   3.2315e-04   4.6503e-04   2.3150e-06\n",
      "\n"
     ]
    }
   ],
   "source": [
    "hx(1:2,1:5)"
   ]
  },
  {
   "cell_type": "code",
   "execution_count": 20,
   "metadata": {},
   "outputs": [
    {
     "name": "stdout",
     "output_type": "stream",
     "text": [
      "size mx = 1 5000; size idx 1 5000\n"
     ]
    }
   ],
   "source": [
    "[mx, idx] = max(hx, [], 1);\n",
    "fprintf('size mx = %d %d; size idx %d %d\\n',size(mx), size(idx));"
   ]
  },
  {
   "cell_type": "code",
   "execution_count": 21,
   "metadata": {},
   "outputs": [
    {
     "name": "stdout",
     "output_type": "stream",
     "text": [
      "size p_cp = 5000 1\n"
     ]
    }
   ],
   "source": [
    "p_cp = idx';\n",
    "fprintf('size p_cp = %d %d\\n',size(p_cp));"
   ]
  },
  {
   "cell_type": "code",
   "execution_count": 22,
   "metadata": {},
   "outputs": [
    {
     "name": "stdout",
     "output_type": "stream",
     "text": [
      "ans = 10\n"
     ]
    }
   ],
   "source": [
    "max(y)"
   ]
  },
  {
   "cell_type": "code",
   "execution_count": 23,
   "metadata": {},
   "outputs": [
    {
     "name": "stdout",
     "output_type": "stream",
     "text": [
      "i 1; num true i 500, num predicted 509\n",
      "i 2; num true i 500, num predicted 487\n",
      "i 3; num true i 500, num predicted 487\n",
      "i 4; num true i 500, num predicted 507\n",
      "i 5; num true i 500, num predicted 490\n",
      "i 6; num true i 500, num predicted 503\n",
      "i 7; num true i 500, num predicted 507\n",
      "i 8; num true i 500, num predicted 503\n",
      "i 9; num true i 500, num predicted 504\n",
      "i 10; num true i 500, num predicted 503\n",
      "sum elements classified 5000\n"
     ]
    }
   ],
   "source": [
    "test_prediction(p_cp, y, 10);"
   ]
  },
  {
   "cell_type": "code",
   "execution_count": 24,
   "metadata": {},
   "outputs": [],
   "source": [
    "% now I use the function\n",
    "[p] = predictOneVsAll(all_theta, X);"
   ]
  },
  {
   "cell_type": "code",
   "execution_count": 25,
   "metadata": {},
   "outputs": [
    {
     "name": "stdout",
     "output_type": "stream",
     "text": [
      "i 1; num true i 500, num predicted 509\n",
      "i 2; num true i 500, num predicted 487\n",
      "i 3; num true i 500, num predicted 487\n",
      "i 4; num true i 500, num predicted 507\n",
      "i 5; num true i 500, num predicted 490\n",
      "i 6; num true i 500, num predicted 503\n",
      "i 7; num true i 500, num predicted 507\n",
      "i 8; num true i 500, num predicted 503\n",
      "i 9; num true i 500, num predicted 504\n",
      "i 10; num true i 500, num predicted 503\n",
      "sum elements classified 5000\n"
     ]
    }
   ],
   "source": [
    "test_prediction(p, y, 10);"
   ]
  },
  {
   "cell_type": "markdown",
   "metadata": {},
   "source": [
    "test = (y==p);"
   ]
  },
  {
   "cell_type": "code",
   "execution_count": 29,
   "metadata": {},
   "outputs": [
    {
     "name": "stdout",
     "output_type": "stream",
     "text": [
      "Predictions using predictOneVsAll\n",
      "num right predict: 95.020000\n",
      "Step by step predictions in this file\n",
      "num right predict: 95.020000\n"
     ]
    }
   ],
   "source": [
    "for i=1:2\n",
    "    test=zeros(5000,1);\n",
    "    if  i == 1\n",
    "        fprintf('Predictions using predictOneVsAll\\n')\n",
    "        test = (y==p);\n",
    "    else\n",
    "        fprintf('Step by step predictions in this file\\n')\n",
    "        test = (y==p_cp);    \n",
    "    endif \n",
    "    fprintf('num right predictions: %f\\n', 100*sum(test)/5000)\n",
    "end"
   ]
  }
 ],
 "metadata": {
  "kernelspec": {
   "display_name": "Octave",
   "language": "octave",
   "name": "octave"
  },
  "language_info": {
   "file_extension": ".m",
   "help_links": [
    {
     "text": "GNU Octave",
     "url": "https://www.gnu.org/software/octave/support.html"
    },
    {
     "text": "Octave Kernel",
     "url": "https://github.com/Calysto/octave_kernel"
    },
    {
     "text": "MetaKernel Magics",
     "url": "https://metakernel.readthedocs.io/en/latest/source/README.html"
    }
   ],
   "mimetype": "text/x-octave",
   "name": "octave",
   "version": "6.1.0"
  }
 },
 "nbformat": 4,
 "nbformat_minor": 4
}
