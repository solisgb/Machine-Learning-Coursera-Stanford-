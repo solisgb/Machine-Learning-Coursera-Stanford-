{
 "cells": [
  {
   "cell_type": "markdown",
   "metadata": {},
   "source": [
    "# Exercise 8 | Anomaly Detection and Collaborative Filtering"
   ]
  },
  {
   "cell_type": "code",
   "execution_count": 5,
   "metadata": {},
   "outputs": [],
   "source": [
    "graphics_toolkit ('gnuplot');"
   ]
  },
  {
   "cell_type": "markdown",
   "metadata": {},
   "source": [
    "## Part 1: Load Example Dataset "
   ]
  },
  {
   "cell_type": "code",
   "execution_count": 2,
   "metadata": {},
   "outputs": [],
   "source": [
    "load ('ex8_movies.mat');"
   ]
  },
  {
   "cell_type": "code",
   "execution_count": 6,
   "metadata": {},
   "outputs": [],
   "source": [
    "%  We can \"visualize\" the ratings matrix by plotting it with imagesc\n",
    "imagesc(Y);\n",
    "ylabel('Movies');\n",
    "xlabel('Users');"
   ]
  },
  {
   "cell_type": "markdown",
   "metadata": {},
   "source": [
    "## Part 2: Part 2: Collaborative Filtering Cost Function"
   ]
  },
  {
   "cell_type": "code",
   "execution_count": 12,
   "metadata": {},
   "outputs": [],
   "source": [
    "%  Load pre-trained weights (X, Theta, num_users, num_movies, num_features)\n",
    "load ('ex8_movieParams.mat');"
   ]
  },
  {
   "cell_type": "code",
   "execution_count": 8,
   "metadata": {},
   "outputs": [],
   "source": [
    "%  Reduce the data set size so that this runs faster\n",
    "num_users = 4; num_movies = 5; num_features = 3;\n",
    "X = X(1:num_movies, 1:num_features);\n",
    "Theta = Theta(1:num_users, 1:num_features);\n",
    "Y = Y(1:num_movies, 1:num_users);\n",
    "R = R(1:num_movies, 1:num_users);"
   ]
  },
  {
   "cell_type": "code",
   "execution_count": 10,
   "metadata": {},
   "outputs": [],
   "source": [
    "lambda = 0;"
   ]
  },
  {
   "cell_type": "code",
   "execution_count": 13,
   "metadata": {},
   "outputs": [
    {
     "name": "stdout",
     "output_type": "stream",
     "text": [
      "error: 'params' undefined near line 1, column 1\n",
      "error: invalid use of 'end': may only be used to index existing value\n"
     ]
    }
   ],
   "source": [
    "% Unfold the U and W matrices from params\n",
    "X = reshape(params(1:num_movies*num_features), num_movies, num_features);\n",
    "Theta = reshape(params(num_movies*num_features+1:end), num_users, num_features);"
   ]
  },
  {
   "cell_type": "code",
   "execution_count": null,
   "metadata": {},
   "outputs": [],
   "source": [
    "whos"
   ]
  }
 ],
 "metadata": {
  "kernelspec": {
   "display_name": "Octave",
   "language": "octave",
   "name": "octave"
  },
  "language_info": {
   "file_extension": ".m",
   "help_links": [
    {
     "text": "GNU Octave",
     "url": "https://www.gnu.org/software/octave/support.html"
    },
    {
     "text": "Octave Kernel",
     "url": "https://github.com/Calysto/octave_kernel"
    },
    {
     "text": "MetaKernel Magics",
     "url": "https://metakernel.readthedocs.io/en/latest/source/README.html"
    }
   ],
   "mimetype": "text/x-octave",
   "name": "octave",
   "version": "6.2.0"
  }
 },
 "nbformat": 4,
 "nbformat_minor": 4
}
