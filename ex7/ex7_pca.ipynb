{
 "cells": [
  {
   "cell_type": "markdown",
   "metadata": {},
   "source": [
    "# Exercise 7 | Principle Component Analysis and K-Means Clustering"
   ]
  },
  {
   "cell_type": "markdown",
   "metadata": {},
   "source": [
    "## Part 1: Load Example Dataset"
   ]
  },
  {
   "cell_type": "code",
   "execution_count": 2,
   "metadata": {},
   "outputs": [],
   "source": [
    "load ('ex7data1.mat');"
   ]
  },
  {
   "cell_type": "code",
   "execution_count": 3,
   "metadata": {},
   "outputs": [
    {
     "name": "stdout",
     "output_type": "stream",
     "text": [
      "Variables visible from the current scope:\n",
      "\n",
      "variables in scope: top scope\n",
      "\n",
      "   Attr Name        Size                     Bytes  Class\n",
      "   ==== ====        ====                     =====  ===== \n",
      "        X          50x2                        800  double\n",
      "        ans         1x5                          5  char\n",
      "\n",
      "Total is 105 elements using 805 bytes\n",
      "\n"
     ]
    }
   ],
   "source": [
    "whos"
   ]
  },
  {
   "cell_type": "code",
   "execution_count": 7,
   "metadata": {},
   "outputs": [
    {
     "data": {
      "image/png": "[encoded data removed]",
      "text/plain": [
       "<IPython.core.display.Image object>"
      ]
     },
     "metadata": {},
     "output_type": "display_data"
    }
   ],
   "source": [
    "graphics_toolkit ('gnuplot');\n",
    "plot(X(:, 1), X(:, 2), 'bo');\n",
    "axis([0.5 6.5 2 8]); axis square;"
   ]
  },
  {
   "cell_type": "markdown",
   "metadata": {},
   "source": [
    "## Part 2: Principal Component Analysis"
   ]
  },
  {
   "cell_type": "code",
   "execution_count": 8,
   "metadata": {},
   "outputs": [],
   "source": [
    "%  Before running PCA, it is important to first normalize X\n",
    "[X_norm, mu, sigma] = featureNormalize(X);"
   ]
  },
  {
   "cell_type": "code",
   "execution_count": 9,
   "metadata": {},
   "outputs": [],
   "source": [
    "[m, n] = size(X_norm); "
   ]
  },
  {
   "cell_type": "code",
   "execution_count": 10,
   "metadata": {},
   "outputs": [
    {
     "name": "stdout",
     "output_type": "stream",
     "text": [
      "50 2"
     ]
    }
   ],
   "source": [
    "fprintf('%d %d', m, n);"
   ]
  },
  {
   "cell_type": "code",
   "execution_count": 11,
   "metadata": {},
   "outputs": [
    {
     "name": "stdout",
     "output_type": "stream",
     "text": [
      "2 2"
     ]
    }
   ],
   "source": [
    "Sigma = (1/m) * (X_norm' * X_norm);\n",
    "fprintf('%d %d', size(Sigma));"
   ]
  },
  {
   "cell_type": "code",
   "execution_count": 22,
   "metadata": {},
   "outputs": [],
   "source": [
    "[U, S, V] = svd(Sigma);"
   ]
  },
  {
   "cell_type": "code",
   "execution_count": 18,
   "metadata": {},
   "outputs": [
    {
     "name": "stdout",
     "output_type": "stream",
     "text": [
      "U =\n",
      "\n",
      "  -0.7071  -0.7071\n",
      "  -0.7071   0.7071\n",
      "\n"
     ]
    }
   ],
   "source": [
    "U"
   ]
  },
  {
   "cell_type": "code",
   "execution_count": 13,
   "metadata": {},
   "outputs": [],
   "source": [
    "[U, S] = pca(X_norm);"
   ]
  },
  {
   "cell_type": "code",
   "execution_count": 17,
   "metadata": {},
   "outputs": [
    {
     "name": "stdout",
     "output_type": "stream",
     "text": [
      "Top eigenvector: \n",
      " U(:,1) = -0.707107 -0.707107 \n"
     ]
    },
    {
     "data": {
      "image/png": "[encoded data removed]",
      "text/plain": [
       "<IPython.core.display.Image object>"
      ]
     },
     "metadata": {},
     "output_type": "display_data"
    }
   ],
   "source": [
    "%  Draw the eigenvectors centered at mean of data. These lines show the\n",
    "%  directions of maximum variations in the dataset.\n",
    "hold on;\n",
    "drawLine(mu, mu + 1.5 * S(1,1) * U(:,1)', '-k', 'LineWidth', 2);\n",
    "drawLine(mu, mu + 1.5 * S(2,2) * U(:,2)', '-k', 'LineWidth', 2);\n",
    "hold off;"
   ]
  },
  {
   "cell_type": "code",
   "execution_count": 18,
   "metadata": {},
   "outputs": [
    {
     "name": "stdout",
     "output_type": "stream",
     "text": [
      "Top eigenvector: \n",
      " U(:,1) = -0.707107 -0.707107 \n"
     ]
    }
   ],
   "source": [
    "fprintf('Top eigenvector: \\n');\n",
    "fprintf(' U(:,1) = %f %f \\n', U(1,1), U(2,1));"
   ]
  },
  {
   "cell_type": "markdown",
   "metadata": {},
   "source": [
    "## Part 3: Dimension Reduction"
   ]
  },
  {
   "cell_type": "code",
   "execution_count": 15,
   "metadata": {},
   "outputs": [
    {
     "data": {
      "image/png": "[encoded data removed]",
      "text/plain": [
       "<IPython.core.display.Image object>"
      ]
     },
     "metadata": {},
     "output_type": "display_data"
    }
   ],
   "source": [
    "%  Plot the normalized dataset (returned from pca)\n",
    "plot(X_norm(:, 1), X_norm(:, 2), 'bo');\n",
    "axis([-4 3 -4 3]); axis square"
   ]
  },
  {
   "cell_type": "code",
   "execution_count": 19,
   "metadata": {},
   "outputs": [],
   "source": [
    "%  Project the data onto K = 1 dimension\n",
    "K = 1;"
   ]
  },
  {
   "cell_type": "code",
   "execution_count": 23,
   "metadata": {},
   "outputs": [
    {
     "name": "stdout",
     "output_type": "stream",
     "text": [
      "size(U) 2 2, size(X_norm) 50 2"
     ]
    }
   ],
   "source": [
    "fprintf('size(U) %d %d, size(X_norm) %d %d', size(U), size(X_norm));"
   ]
  },
  {
   "cell_type": "code",
   "execution_count": 34,
   "metadata": {},
   "outputs": [
    {
     "name": "stdout",
     "output_type": "stream",
     "text": [
      "size(Z) 50 1, Z(1) 1.481274"
     ]
    }
   ],
   "source": [
    "Z = (U(:, 1:K)' *  X_norm')';\n",
    "fprintf('size(Z) %d %d, Z(1) %f', size(Z), Z(1));"
   ]
  },
  {
   "cell_type": "code",
   "execution_count": 33,
   "metadata": {},
   "outputs": [
    {
     "name": "stdout",
     "output_type": "stream",
     "text": [
      "size(Z) 50 1, Z(1) 1.481274"
     ]
    }
   ],
   "source": [
    "Z = (X_norm * U(:, 1:K));\n",
    "fprintf('size(Z) %d %d, Z(1) %f', size(Z), Z(1));"
   ]
  },
  {
   "cell_type": "code",
   "execution_count": 32,
   "metadata": {},
   "outputs": [
    {
     "name": "stdout",
     "output_type": "stream",
     "text": [
      "size(Z) 50 1, Z(1) 1.481274"
     ]
    }
   ],
   "source": [
    "Z = projectData(X_norm, U, K);\n",
    "fprintf('size(Z) %d %d, Z(1) %f', size(Z), Z(1));"
   ]
  },
  {
   "cell_type": "code",
   "execution_count": 36,
   "metadata": {},
   "outputs": [
    {
     "name": "stdout",
     "output_type": "stream",
     "text": [
      "size(X_rec) 50 2, X_rec(1) -1.047419 -1.047419"
     ]
    }
   ],
   "source": [
    "X_rec = Z * U(:, 1:K)';\n",
    "fprintf('size(X_rec) %d %d, X_rec(1) %f %f', size(X_rec), X_rec(1, :));"
   ]
  },
  {
   "cell_type": "code",
   "execution_count": 37,
   "metadata": {},
   "outputs": [
    {
     "name": "stdout",
     "output_type": "stream",
     "text": [
      "size(X_rec) 50 2, X_rec(1) -1.047419 -1.047419"
     ]
    }
   ],
   "source": [
    "X_rec  = recoverData(Z, U, K);\n",
    "fprintf('size(X_rec) %d %d, X_rec(1) %f %f', size(X_rec), X_rec(1, :));"
   ]
  },
  {
   "cell_type": "code",
   "execution_count": null,
   "metadata": {},
   "outputs": [],
   "source": []
  }
 ],
 "metadata": {
  "kernelspec": {
   "display_name": "Octave",
   "language": "octave",
   "name": "octave"
  },
  "language_info": {
   "file_extension": ".m",
   "help_links": [
    {
     "text": "GNU Octave",
     "url": "https://www.gnu.org/software/octave/support.html"
    },
    {
     "text": "Octave Kernel",
     "url": "https://github.com/Calysto/octave_kernel"
    },
    {
     "text": "MetaKernel Magics",
     "url": "https://metakernel.readthedocs.io/en/latest/source/README.html"
    }
   ],
   "mimetype": "text/x-octave",
   "name": "octave",
   "version": "6.2.0"
  }
 },
 "nbformat": 4,
 "nbformat_minor": 4
}
