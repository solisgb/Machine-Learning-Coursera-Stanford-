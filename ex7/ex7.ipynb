{
 "cells": [
  {
   "cell_type": "markdown",
   "metadata": {},
   "source": [
    "# Exercise 7 | Principle Component Analysis and K-Means Clustering"
   ]
  },
  {
   "cell_type": "markdown",
   "metadata": {},
   "source": [
    "## Part 1: Find Closest Centroids"
   ]
  },
  {
   "cell_type": "code",
   "execution_count": 1,
   "metadata": {},
   "outputs": [],
   "source": [
    "% Load an example dataset that we will be using\n",
    "load('ex7data2.mat');"
   ]
  },
  {
   "cell_type": "code",
   "execution_count": 2,
   "metadata": {},
   "outputs": [
    {
     "name": "stdout",
     "output_type": "stream",
     "text": [
      "Variables visible from the current scope:\n",
      "\n",
      "variables in scope: top scope\n",
      "\n",
      "   Attr Name        Size                     Bytes  Class\n",
      "   ==== ====        ====                     =====  ===== \n",
      "        X         300x2                       4800  double\n",
      "        ans         1x5                          5  char\n",
      "\n",
      "Total is 605 elements using 4805 bytes\n",
      "\n"
     ]
    }
   ],
   "source": [
    "whos"
   ]
  },
  {
   "cell_type": "markdown",
   "metadata": {},
   "source": [
    "K = 3; % 3 Centroids\n",
    "initial_centroids = [3 3; 6 2; 8 5];"
   ]
  },
  {
   "cell_type": "code",
   "execution_count": 4,
   "metadata": {},
   "outputs": [],
   "source": [
    "idx = zeros(size(X,1), 1);"
   ]
  },
  {
   "cell_type": "code",
   "execution_count": 13,
   "metadata": {},
   "outputs": [],
   "source": [
    "centroids = initial_centroids;\n",
    "huge = 10^6;\n",
    "for i =1:size(X, 1)\n",
    "    dmin = huge;\n",
    "    iidx = 0;\n",
    "    for j = 1:size(centroids, 1) \n",
    "        sum = 0;\n",
    "        for l = 1:size(centroids, 2)\n",
    "            sum = sum + (X(i, l) - centroids(j, l))^2;\n",
    "        end\n",
    "        d1 = sqrt(sum);\n",
    "        if d1 < dmin\n",
    "            dmin = d1;\n",
    "            iidx = j;\n",
    "        end\n",
    "    end\n",
    "    idx(i) = iidx;\n",
    "end"
   ]
  },
  {
   "cell_type": "code",
   "execution_count": 14,
   "metadata": {},
   "outputs": [
    {
     "name": "stdout",
     "output_type": "stream",
     "text": [
      "   1\n",
      "   3\n",
      "   2\n"
     ]
    }
   ],
   "source": [
    "disp(idx(1:3,:));"
   ]
  },
  {
   "cell_type": "code",
   "execution_count": 7,
   "metadata": {},
   "outputs": [
    {
     "name": "stdout",
     "output_type": "stream",
     "text": [
      "   1.8421   4.6076\n",
      "   5.6586   4.8000\n",
      "   6.3526   3.2909\n"
     ]
    }
   ],
   "source": [
    "disp(X(1:3,:));"
   ]
  },
  {
   "cell_type": "code",
   "execution_count": 11,
   "metadata": {},
   "outputs": [
    {
     "name": "stdout",
     "output_type": "stream",
     "text": [
      "2\n"
     ]
    }
   ],
   "source": [
    "disp(size(centroids, 2));"
   ]
  },
  {
   "cell_type": "code",
   "execution_count": 15,
   "metadata": {},
   "outputs": [
    {
     "name": "stdout",
     "output_type": "stream",
     "text": [
      "   1\n",
      "   3\n",
      "   2\n"
     ]
    }
   ],
   "source": [
    "idx = findClosestCentroids(X, initial_centroids);\n",
    "disp(idx(1:3,:));"
   ]
  },
  {
   "cell_type": "markdown",
   "metadata": {},
   "source": [
    "## Part 2: Compute Means"
   ]
  },
  {
   "cell_type": "code",
   "execution_count": 16,
   "metadata": {},
   "outputs": [],
   "source": [
    "[m n] = size(X);\n",
    "centroids = zeros(K, n);"
   ]
  },
  {
   "cell_type": "code",
   "execution_count": 17,
   "metadata": {},
   "outputs": [
    {
     "name": "stdout",
     "output_type": "stream",
     "text": [
      " 2.428301 3.157924 \n",
      " 5.813503 2.633656 \n",
      " 7.119387 3.616684 \n"
     ]
    }
   ],
   "source": [
    "sums = zeros(K, n);\n",
    "ns = zeros(K, n);\n",
    "for i = 1:m\n",
    "    for j = 1:n\n",
    "        sums(idx(i), j) = sums(idx(i), j) + X(i, j);\n",
    "    end\n",
    "    ns(idx(i)) = ns(idx(i)) + 1;\n",
    "end\n",
    "for i=1:K\n",
    "    for j=1:n\n",
    "        centroids(i, j) = sums(i, j) / ns(i);\n",
    "    end\n",
    "end\n",
    "fprintf(' %f %f \\n' , centroids');"
   ]
  },
  {
   "cell_type": "code",
   "execution_count": 18,
   "metadata": {},
   "outputs": [
    {
     "name": "stdout",
     "output_type": "stream",
     "text": [
      " 2.428301 3.157924 \n",
      " 5.813503 2.633656 \n",
      " 7.119387 3.616684 \n"
     ]
    }
   ],
   "source": [
    "centroids = computeCentroids(X, idx, K);\n",
    "fprintf(' %f %f \\n' , centroids');"
   ]
  },
  {
   "cell_type": "code",
   "execution_count": null,
   "metadata": {},
   "outputs": [],
   "source": []
  }
 ],
 "metadata": {
  "kernelspec": {
   "display_name": "Octave",
   "language": "octave",
   "name": "octave"
  },
  "language_info": {
   "file_extension": ".m",
   "help_links": [
    {
     "text": "GNU Octave",
     "url": "https://www.gnu.org/software/octave/support.html"
    },
    {
     "text": "Octave Kernel",
     "url": "https://github.com/Calysto/octave_kernel"
    },
    {
     "text": "MetaKernel Magics",
     "url": "https://metakernel.readthedocs.io/en/latest/source/README.html"
    }
   ],
   "mimetype": "text/x-octave",
   "name": "octave",
   "version": "6.2.0"
  }
 },
 "nbformat": 4,
 "nbformat_minor": 4
}
