{
 "cells": [
  {
   "cell_type": "markdown",
   "metadata": {},
   "source": [
    "### Regularization"
   ]
  },
  {
   "cell_type": "markdown",
   "metadata": {},
   "source": [
    "#### Read and plot the data"
   ]
  },
  {
   "cell_type": "code",
   "execution_count": 2,
   "metadata": {},
   "outputs": [],
   "source": [
    "data = load('ex2data2.txt');"
   ]
  },
  {
   "cell_type": "code",
   "execution_count": 3,
   "metadata": {},
   "outputs": [],
   "source": [
    "X = data(:, [1, 2]);\n",
    "y = data(:, 3);"
   ]
  },
  {
   "cell_type": "code",
   "execution_count": 4,
   "metadata": {},
   "outputs": [
    {
     "name": "stdout",
     "output_type": "stream",
     "text": [
      "Variables visible from the current scope:\n",
      "\n",
      "variables in scope: top scope\n",
      "\n",
      "   Attr Name        Size                     Bytes  Class\n",
      "   ==== ====        ====                     =====  ===== \n",
      "        X         118x2                       1888  double\n",
      "        ans         1x5                          5  char\n",
      "        data      118x3                       2832  double\n",
      "        y         118x1                        944  double\n",
      "\n",
      "Total is 713 elements using 5669 bytes\n",
      "\n"
     ]
    }
   ],
   "source": [
    "whos"
   ]
  },
  {
   "cell_type": "code",
   "execution_count": 6,
   "metadata": {},
   "outputs": [
    {
     "data": {
      "image/png": "[encoded data removed]",
      "text/plain": [
       "<IPython.core.display.Image object>"
      ]
     },
     "metadata": {},
     "output_type": "display_data"
    }
   ],
   "source": [
    "graphics_toolkit ('gnuplot');\n",
    "plotData(X, y);"
   ]
  },
  {
   "cell_type": "code",
   "execution_count": 7,
   "metadata": {},
   "outputs": [
    {
     "name": "stdout",
     "output_type": "stream",
     "text": [
      "ans =\n",
      "\n",
      "   118     2\n",
      "\n"
     ]
    }
   ],
   "source": [
    "size(X)"
   ]
  },
  {
   "cell_type": "code",
   "execution_count": 8,
   "metadata": {},
   "outputs": [
    {
     "name": "stdout",
     "output_type": "stream",
     "text": [
      "ans =\n",
      "\n",
      "   0.051267   0.699560\n",
      "  -0.092742   0.684940\n",
      "  -0.213710   0.692250\n",
      "  -0.375000   0.502190\n",
      "  -0.513250   0.465640\n",
      "\n"
     ]
    }
   ],
   "source": [
    "X(1:5,:)"
   ]
  },
  {
   "cell_type": "markdown",
   "metadata": {},
   "source": [
    "#### Regularization"
   ]
  },
  {
   "cell_type": "code",
   "execution_count": 9,
   "metadata": {},
   "outputs": [],
   "source": [
    "X = mapFeature(X(:,1), X(:,2));"
   ]
  },
  {
   "cell_type": "code",
   "execution_count": 10,
   "metadata": {},
   "outputs": [
    {
     "name": "stdout",
     "output_type": "stream",
     "text": [
      "ans =\n",
      "\n",
      "   118    28\n",
      "\n"
     ]
    }
   ],
   "source": [
    "size(X)"
   ]
  },
  {
   "cell_type": "code",
   "execution_count": 11,
   "metadata": {},
   "outputs": [],
   "source": [
    "initial_theta = zeros(size(X, 2), 1); % 28 1"
   ]
  },
  {
   "cell_type": "code",
   "execution_count": 12,
   "metadata": {},
   "outputs": [],
   "source": [
    "% Regularization parameter lambda to 1\n",
    "lambda = 1;"
   ]
  },
  {
   "cell_type": "code",
   "execution_count": 13,
   "metadata": {},
   "outputs": [],
   "source": [
    "h = sigmoid(X * initial_theta);"
   ]
  },
  {
   "cell_type": "code",
   "execution_count": 14,
   "metadata": {},
   "outputs": [
    {
     "name": "stdout",
     "output_type": "stream",
     "text": [
      "ans =\n",
      "\n",
      "   118     1\n",
      "\n"
     ]
    }
   ],
   "source": [
    "size(h)"
   ]
  },
  {
   "cell_type": "code",
   "execution_count": 15,
   "metadata": {},
   "outputs": [],
   "source": [
    "m = length(y);"
   ]
  },
  {
   "cell_type": "code",
   "execution_count": 34,
   "metadata": {},
   "outputs": [
    {
     "name": "stdout",
     "output_type": "stream",
     "text": [
      "n = 28\n"
     ]
    }
   ],
   "source": [
    "[cost, grad] = costFunctionReg(initial_theta, X, y, lambda);"
   ]
  },
  {
   "cell_type": "code",
   "execution_count": 35,
   "metadata": {},
   "outputs": [
    {
     "name": "stdout",
     "output_type": "stream",
     "text": [
      "cost = 0.6931\n"
     ]
    }
   ],
   "source": [
    "cost"
   ]
  },
  {
   "cell_type": "code",
   "execution_count": 40,
   "metadata": {},
   "outputs": [],
   "source": [
    "%theta .* [0; ones(length(theta)-1, 1)]\n",
    "theta1 = ones(size(initial_theta)(1), size(initial_theta)(2))*2;"
   ]
  },
  {
   "cell_type": "code",
   "execution_count": 41,
   "metadata": {},
   "outputs": [
    {
     "name": "stdout",
     "output_type": "stream",
     "text": [
      "ans =\n",
      "\n",
      "   2\n",
      "   2\n",
      "   2\n",
      "   2\n",
      "   2\n",
      "\n"
     ]
    }
   ],
   "source": [
    "theta1(1:5,:)"
   ]
  },
  {
   "cell_type": "code",
   "execution_count": 46,
   "metadata": {},
   "outputs": [
    {
     "name": "stdout",
     "output_type": "stream",
     "text": [
      "ans =\n",
      "\n",
      "   0\n",
      "   2\n",
      "   2\n",
      "   2\n",
      "   2\n",
      "   2\n",
      "   2\n",
      "   2\n",
      "   2\n",
      "   2\n",
      "   2\n",
      "   2\n",
      "   2\n",
      "   2\n",
      "   2\n",
      "   2\n",
      "   2\n",
      "   2\n",
      "   2\n",
      "   2\n",
      "   2\n",
      "   2\n",
      "   2\n",
      "   2\n",
      "   2\n",
      "   2\n",
      "   2\n",
      "   2\n",
      "\n"
     ]
    }
   ],
   "source": [
    "theta1 .* [0; ones(length(theta1)-1, 1)]"
   ]
  },
  {
   "cell_type": "code",
   "execution_count": null,
   "metadata": {},
   "outputs": [],
   "source": []
  }
 ],
 "metadata": {
  "kernelspec": {
   "display_name": "Octave",
   "language": "octave",
   "name": "octave"
  },
  "language_info": {
   "file_extension": ".m",
   "help_links": [
    {
     "text": "GNU Octave",
     "url": "https://www.gnu.org/software/octave/support.html"
    },
    {
     "text": "Octave Kernel",
     "url": "https://github.com/Calysto/octave_kernel"
    },
    {
     "text": "MetaKernel Magics",
     "url": "https://metakernel.readthedocs.io/en/latest/source/README.html"
    }
   ],
   "mimetype": "text/x-octave",
   "name": "octave",
   "version": "6.1.0"
  }
 },
 "nbformat": 4,
 "nbformat_minor": 4
}
