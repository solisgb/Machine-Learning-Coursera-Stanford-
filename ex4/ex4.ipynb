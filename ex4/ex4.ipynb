{
 "cells": [
  {
   "cell_type": "markdown",
   "metadata": {},
   "source": [
    "### Exercise 4 Neural Network Learning"
   ]
  },
  {
   "cell_type": "markdown",
   "metadata": {},
   "source": [
    "#### Parameters"
   ]
  },
  {
   "cell_type": "code",
   "execution_count": 1,
   "metadata": {},
   "outputs": [
    {
     "name": "stdout",
     "output_type": "stream",
     "text": [
      "input_layer_size = 400, hidden_layer_size = 25, num_labels = 10\n"
     ]
    }
   ],
   "source": [
    "input_layer_size  = 400;  % 20x20 Input Images of Digits\n",
    "hidden_layer_size = 25;   % 25 hidden units\n",
    "num_labels = 10;          % 10 labels, from 1 to 10 (we have mapped \"0\" to label 10)\n",
    "fprintf('input_layer_size = %d, hidden_layer_size = %d, num_labels = %d\\n',input_layer_size, hidden_layer_size, num_labels);"
   ]
  },
  {
   "cell_type": "markdown",
   "metadata": {},
   "source": [
    "#### Part 1: Loading and Visualizing Data"
   ]
  },
  {
   "cell_type": "code",
   "execution_count": 2,
   "metadata": {},
   "outputs": [
    {
     "data": {
      "image/png": "[encoded data removed]",
      "text/plain": [
       "<IPython.core.display.Image object>"
      ]
     },
     "metadata": {},
     "output_type": "display_data"
    }
   ],
   "source": [
    "load('ex4data1.mat');\n",
    "m = size(X, 1);\n",
    "\n",
    "% Randomly select 100 data points to display\n",
    "sel = randperm(size(X, 1));\n",
    "sel = sel(1:100);\n",
    "\n",
    "graphics_toolkit ('gnuplot');\n",
    "displayData(X(sel, :));"
   ]
  },
  {
   "cell_type": "markdown",
   "metadata": {},
   "source": [
    "#### Part 2: Loading Parameters"
   ]
  },
  {
   "cell_type": "code",
   "execution_count": 3,
   "metadata": {},
   "outputs": [],
   "source": [
    "% Load the weights into variables Theta1 and Theta2\n",
    "load('ex4weights.mat');\n",
    "\n",
    "% Unroll parameters \n",
    "nn_params = [Theta1(:) ; Theta2(:)];"
   ]
  },
  {
   "cell_type": "markdown",
   "metadata": {},
   "source": [
    "#### Part 3: Compute Cost (Feedforward)"
   ]
  },
  {
   "cell_type": "code",
   "execution_count": 4,
   "metadata": {},
   "outputs": [
    {
     "name": "stdout",
     "output_type": "stream",
     "text": [
      "m = size(X, 1) = 5000\n"
     ]
    }
   ],
   "source": [
    "fprintf('m = size(X, 1) = %d\\n', size(X, 1))"
   ]
  },
  {
   "cell_type": "code",
   "execution_count": 5,
   "metadata": {},
   "outputs": [],
   "source": [
    "% Weight regularization parameter (we set this to 0 here).\n",
    "lambda = 1;"
   ]
  },
  {
   "cell_type": "code",
   "execution_count": 6,
   "metadata": {},
   "outputs": [],
   "source": [
    "Theta1 = reshape(nn_params(1:hidden_layer_size * (input_layer_size + 1)), ...\n",
    "                 hidden_layer_size, (input_layer_size + 1));\n",
    "\n",
    "Theta2 = reshape(nn_params((1 + (hidden_layer_size * (input_layer_size + 1))):end), ...\n",
    "                 num_labels, (hidden_layer_size + 1));"
   ]
  },
  {
   "cell_type": "code",
   "execution_count": 34,
   "metadata": {},
   "outputs": [
    {
     "name": "stdout",
     "output_type": "stream",
     "text": [
      "size(Theta1) 25 401; size(Theta2) 10 26\n"
     ]
    }
   ],
   "source": [
    "fprintf('size(Theta1) %d %d; size(Theta2) %d %d\\n', size(Theta1), size(Theta2))"
   ]
  },
  {
   "cell_type": "code",
   "execution_count": 8,
   "metadata": {},
   "outputs": [
    {
     "name": "stdout",
     "output_type": "stream",
     "text": [
      "size(a1) = 5000 401\n"
     ]
    }
   ],
   "source": [
    "%% function code beguins here\n",
    "a1 = [ones(m, 1) X];\n",
    "fprintf('size(a1) = %d %d\\n', size(a1));"
   ]
  },
  {
   "cell_type": "code",
   "execution_count": 9,
   "metadata": {},
   "outputs": [
    {
     "name": "stdout",
     "output_type": "stream",
     "text": [
      "size(Theta2) = 10 26, size(a2) = 5000 25, size(z2) 5000 25\n"
     ]
    }
   ],
   "source": [
    "z2 = a1 * Theta1';\n",
    "a2 = sigmoid(z2);\n",
    "fprintf('size(Theta2) = %d %d, size(a2) = %d %d, size(z2) %d %d\\n', size(Theta2), size(a2), size(z2));"
   ]
  },
  {
   "cell_type": "code",
   "execution_count": 10,
   "metadata": {},
   "outputs": [
    {
     "name": "stdout",
     "output_type": "stream",
     "text": [
      "size Theta2 = 10 26; size a2 plus 1r = 5000 26\n"
     ]
    }
   ],
   "source": [
    "a2 = [ones(m, 1) a2];\n",
    "fprintf('size Theta2 = %d %d; size a2 plus 1r = %d %d\\n', size(Theta2), size(a2));"
   ]
  },
  {
   "cell_type": "code",
   "execution_count": 11,
   "metadata": {},
   "outputs": [
    {
     "name": "stdout",
     "output_type": "stream",
     "text": [
      "size size a3 = 5000 10; size y 5000 1\n"
     ]
    }
   ],
   "source": [
    "z3 = a2 * Theta2';\n",
    "a3 = sigmoid(z3);\n",
    "fprintf('size size a3 = %d %d; size y %d %d\\n', size(a3), size(y));"
   ]
  },
  {
   "cell_type": "code",
   "execution_count": 12,
   "metadata": {},
   "outputs": [
    {
     "name": "stdout",
     "output_type": "stream",
     "text": [
      "size yv = 5000 10, y = 5000 1\n"
     ]
    }
   ],
   "source": [
    "yv = bsxfun(@eq, y, 1:num_labels);\n",
    "fprintf('size yv = %d %d, y = %d %d\\n', size(yv), size(y));"
   ]
  },
  {
   "cell_type": "code",
   "execution_count": 13,
   "metadata": {},
   "outputs": [
    {
     "name": "stdout",
     "output_type": "stream",
     "text": [
      "J = 0.2876\n"
     ]
    }
   ],
   "source": [
    "J = 0;\n",
    "for i = 1:m\n",
    "    for k = 1:num_labels\n",
    "        J = J + ( - yv(i, k) * log(a3(i, k)) - (1 - yv(i, k)) * log(1 - a3(i, k)));\n",
    "    end\n",
    "end\n",
    "J = J / m %% ok"
   ]
  },
  {
   "cell_type": "code",
   "execution_count": 14,
   "metadata": {},
   "outputs": [
    {
     "name": "stdout",
     "output_type": "stream",
     "text": [
      "a3(:, 1) 5000 1, yvT  1 5000\n"
     ]
    }
   ],
   "source": [
    "size(yv(:,1)');\n",
    "size(log(a3(:, 1)));\n",
    "size((1 - yv(:,1)'));\n",
    "size(log(1 - a3(:, 1)));\n",
    "fprintf('a3(:, 1) %d %d, yvT % d %d\\n', size(a3(:, 1)), size(yv(:,1)'));"
   ]
  },
  {
   "cell_type": "code",
   "execution_count": 15,
   "metadata": {},
   "outputs": [
    {
     "name": "stdout",
     "output_type": "stream",
     "text": [
      "ans = 0.2876\n"
     ]
    }
   ],
   "source": [
    "% faster than previous implementation\n",
    "Jvec = zeros(num_labels, 1);\n",
    "for k = 1:num_labels\n",
    "    Jvec(k) = -yv(:,k)' * log(a3(:, k))  -  (1 - yv(:,k)') * log(1 - a3(:, k));\n",
    "end\n",
    "sum(Jvec)/m"
   ]
  },
  {
   "cell_type": "code",
   "execution_count": 16,
   "metadata": {},
   "outputs": [
    {
     "name": "stdout",
     "output_type": "stream",
     "text": [
      "   105.772\n",
      "   151.134\n",
      "   197.316\n",
      "   148.616\n",
      "   149.922\n",
      "   101.331\n",
      "   141.140\n",
      "   173.736\n",
      "   197.319\n",
      "    71.858\n"
     ]
    }
   ],
   "source": [
    "disp(Jvec)"
   ]
  },
  {
   "cell_type": "code",
   "execution_count": 17,
   "metadata": {},
   "outputs": [
    {
     "name": "stdout",
     "output_type": "stream",
     "text": [
      "Jvec = 0.2876\n"
     ]
    }
   ],
   "source": [
    "Jvec = sum(Jvec)/m %% ok"
   ]
  },
  {
   "cell_type": "code",
   "execution_count": 18,
   "metadata": {},
   "outputs": [
    {
     "name": "stdout",
     "output_type": "stream",
     "text": [
      "ans =\n",
      "\n",
      "    25   401\n",
      "\n"
     ]
    }
   ],
   "source": [
    "size(Theta1)"
   ]
  },
  {
   "cell_type": "code",
   "execution_count": 19,
   "metadata": {},
   "outputs": [
    {
     "name": "stdout",
     "output_type": "stream",
     "text": [
      "392.58\n",
      "ans =\n",
      "\n",
      "   1   1\n",
      "\n"
     ]
    }
   ],
   "source": [
    "reg1 = 0;\n",
    "for j = 1:size(Theta1, 1);\n",
    "    for k = 2:size(Theta1, 2);\n",
    "        reg1 = reg1 + Theta1(j, k).^2;\n",
    "    end\n",
    "end\n",
    "disp(reg1)"
   ]
  },
  {
   "cell_type": "code",
   "execution_count": 20,
   "metadata": {},
   "outputs": [
    {
     "name": "stdout",
     "output_type": "stream",
     "text": [
      "regt = 961.41\n"
     ]
    }
   ],
   "source": [
    "regt = sum(sum(Theta1(:, 2:size(Theta1, 2)).^2)) + sum(sum(Theta2(:, 2:size(Theta2, 2)).^2))"
   ]
  },
  {
   "cell_type": "code",
   "execution_count": 21,
   "metadata": {},
   "outputs": [
    {
     "name": "stdout",
     "output_type": "stream",
     "text": [
      "regt = 0.096141\n"
     ]
    }
   ],
   "source": [
    "regt = lambda * regt / (2 * m)"
   ]
  },
  {
   "cell_type": "code",
   "execution_count": 22,
   "metadata": {},
   "outputs": [
    {
     "name": "stdout",
     "output_type": "stream",
     "text": [
      "Jreg = 0.3838\n"
     ]
    }
   ],
   "source": [
    "Jreg = Jvec + regt"
   ]
  },
  {
   "cell_type": "markdown",
   "metadata": {},
   "source": [
    "### Brack propagation"
   ]
  },
  {
   "cell_type": "markdown",
   "metadata": {},
   "source": [
    "#### sigmoid gradient"
   ]
  },
  {
   "cell_type": "code",
   "execution_count": 23,
   "metadata": {},
   "outputs": [],
   "source": [
    "gprime3 = a3 .* (1 - a3);"
   ]
  },
  {
   "cell_type": "code",
   "execution_count": 24,
   "metadata": {},
   "outputs": [
    {
     "name": "stdout",
     "output_type": "stream",
     "text": [
      "size(a3) = 5000 10, size(gprime3) = 5000 10, size(yv) = 5000 10\n"
     ]
    }
   ],
   "source": [
    "fprintf('size(a3) = %d %d, size(gprime3) = %d %d, size(yv) = %d %d\\n', size(a3), size(gprime3), size(yv))"
   ]
  },
  {
   "cell_type": "code",
   "execution_count": 25,
   "metadata": {},
   "outputs": [
    {
     "name": "stdout",
     "output_type": "stream",
     "text": [
      "g =\n",
      "\n",
      "   0.1966   0.2350   0.2500   0.2350   0.1966\n",
      "\n"
     ]
    }
   ],
   "source": [
    "g = sigmoidGradient([-1 -0.5 0 0.5 1])"
   ]
  },
  {
   "cell_type": "code",
   "execution_count": 26,
   "metadata": {},
   "outputs": [
    {
     "name": "stdout",
     "output_type": "stream",
     "text": [
      "size(delta3) = 5000 10\n"
     ]
    }
   ],
   "source": [
    "delta3 = (a3 - yv);\n",
    "fprintf('size(delta3) = %d %d\\n', size(delta3));"
   ]
  },
  {
   "cell_type": "code",
   "execution_count": 27,
   "metadata": {},
   "outputs": [
    {
     "name": "stdout",
     "output_type": "stream",
     "text": [
      "size(Theta2) = 10 26, size(delta3) = 5000 10, , size(a2) = 5000 26\n"
     ]
    }
   ],
   "source": [
    "fprintf('size(Theta2) = %d %d, size(delta3) = %d %d, , size(a2) = %d %d\\n', size(Theta2), size(delta3), size(a2));"
   ]
  },
  {
   "cell_type": "code",
   "execution_count": 28,
   "metadata": {},
   "outputs": [
    {
     "name": "stdout",
     "output_type": "stream",
     "text": [
      "size(delta2) = 5000 26\n"
     ]
    }
   ],
   "source": [
    "delta2 = (delta3 * Theta2) .* a2 .* (1 - a2);\n",
    "%delta2 = (Theta2(:, 2:end)' * delta3) .* sigmoidGradient(z2)';\n",
    "fprintf('size(delta2) = %d %d\\n', size(delta2));"
   ]
  },
  {
   "cell_type": "code",
   "execution_count": 29,
   "metadata": {},
   "outputs": [
    {
     "name": "stdout",
     "output_type": "stream",
     "text": [
      "size(a2) = 5000 26, size(delta3) = 5000 10\n"
     ]
    }
   ],
   "source": [
    "fprintf('size(a2) = %d %d, size(delta3) = %d %d\\n', size(a2), size(delta3));"
   ]
  },
  {
   "cell_type": "code",
   "execution_count": 30,
   "metadata": {},
   "outputs": [
    {
     "name": "stdout",
     "output_type": "stream",
     "text": [
      "size(Delta2) = 10 26\n"
     ]
    }
   ],
   "source": [
    "Delta2 = (a2' * delta3)';\n",
    "fprintf('size(Delta2) = %d %d\\n', size(Delta2));"
   ]
  },
  {
   "cell_type": "code",
   "execution_count": 31,
   "metadata": {},
   "outputs": [
    {
     "name": "stdout",
     "output_type": "stream",
     "text": [
      "size(a1) = 5000 401, size(delta2) = 5000 26\n"
     ]
    }
   ],
   "source": [
    "fprintf('size(a1) = %d %d, size(delta2) = %d %d\\n', size(a1), size(delta2));"
   ]
  },
  {
   "cell_type": "code",
   "execution_count": 32,
   "metadata": {},
   "outputs": [
    {
     "name": "stdout",
     "output_type": "stream",
     "text": [
      "size(Delta1) = 25 401\n"
     ]
    }
   ],
   "source": [
    "Delta1 = (a1' * delta2(:, 2:end))';\n",
    "fprintf('size(Delta1) = %d %d\\n', size(Delta1));"
   ]
  },
  {
   "cell_type": "code",
   "execution_count": 33,
   "metadata": {},
   "outputs": [
    {
     "name": "stdout",
     "output_type": "stream",
     "text": [
      "size(Delta1) 25 401, size(Delta2) 10 26\n"
     ]
    }
   ],
   "source": [
    "Theta1_grad = Delta1 / m;\n",
    "Theta2_grad = Delta2 / m;\n",
    "fprintf('size(Delta1) %d %d, size(Delta2) %d %d\\n',size(Delta1), size(Delta2))"
   ]
  },
  {
   "cell_type": "code",
   "execution_count": 38,
   "metadata": {},
   "outputs": [
    {
     "name": "stdout",
     "output_type": "stream",
     "text": [
      "ans =\n",
      "\n",
      "    25   400\n",
      "\n"
     ]
    }
   ],
   "source": [
    "size(Theta1_grad(:, 2:end) + (lambda/m)*Theta1(:, 2:end))\n"
   ]
  },
  {
   "cell_type": "code",
   "execution_count": null,
   "metadata": {},
   "outputs": [],
   "source": []
  }
 ],
 "metadata": {
  "kernelspec": {
   "display_name": "Octave",
   "language": "octave",
   "name": "octave"
  },
  "language_info": {
   "file_extension": ".m",
   "help_links": [
    {
     "text": "GNU Octave",
     "url": "https://www.gnu.org/software/octave/support.html"
    },
    {
     "text": "Octave Kernel",
     "url": "https://github.com/Calysto/octave_kernel"
    },
    {
     "text": "MetaKernel Magics",
     "url": "https://metakernel.readthedocs.io/en/latest/source/README.html"
    }
   ],
   "mimetype": "text/x-octave",
   "name": "octave",
   "version": "6.2.0"
  }
 },
 "nbformat": 4,
 "nbformat_minor": 4
}
