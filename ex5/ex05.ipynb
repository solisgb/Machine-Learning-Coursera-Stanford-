{
 "cells": [
  {
   "cell_type": "markdown",
   "metadata": {},
   "source": [
    "## Exercise 5: Regularized Linear Regression and Bias v.s. Variance"
   ]
  },
  {
   "cell_type": "markdown",
   "metadata": {},
   "source": [
    "### Part 1 Data"
   ]
  },
  {
   "cell_type": "code",
   "execution_count": 38,
   "metadata": {},
   "outputs": [
    {
     "name": "stdout",
     "output_type": "stream",
     "text": [
      "size(X) 12 1, size(y) 12 1"
     ]
    }
   ],
   "source": [
    "load ('ex5data1.mat');\n",
    "m = size(X, 1);\n",
    "fprintf('size(X) %d %d, size(y) %d %d', size(X), size(y));"
   ]
  },
  {
   "cell_type": "markdown",
   "metadata": {},
   "source": [
    "#### Plot the data"
   ]
  },
  {
   "cell_type": "code",
   "execution_count": 4,
   "metadata": {},
   "outputs": [
    {
     "data": {
      "image/png": "[encoded data removed]",
      "text/plain": [
       "<IPython.core.display.Image object>"
      ]
     },
     "metadata": {},
     "output_type": "display_data"
    }
   ],
   "source": [
    "graphics_toolkit ('gnuplot');\n",
    "plot(X, y, 'rx', 'MarkerSize', 10, 'LineWidth', 1.5);\n",
    "xlabel('Change in water level (x)');\n",
    "ylabel('Water flowing out of the dam (y)');"
   ]
  },
  {
   "cell_type": "markdown",
   "metadata": {},
   "source": [
    "### Part 2. Regularized Linear Regression Cost"
   ]
  },
  {
   "cell_type": "code",
   "execution_count": 47,
   "metadata": {},
   "outputs": [],
   "source": [
    "theta = [1 ; 1];"
   ]
  },
  {
   "cell_type": "code",
   "execution_count": 59,
   "metadata": {},
   "outputs": [
    {
     "name": "stdout",
     "output_type": "stream",
     "text": [
      "grad =\n",
      "\n",
      "   -15.303\n",
      "   598.167\n",
      "\n",
      "grad =\n",
      "\n",
      "   -15.303\n",
      "   598.251\n",
      "\n",
      "J = 303.993192"
     ]
    }
   ],
   "source": [
    "[J, grad] = linearRegCostFunction([ones(m, 1) X], y, theta, 1);\n",
    "fprintf('J = %f', J);"
   ]
  },
  {
   "cell_type": "code",
   "execution_count": 53,
   "metadata": {},
   "outputs": [
    {
     "name": "stdout",
     "output_type": "stream",
     "text": [
      "size([ones(m, 1) X] 12 2, size(theta) 2 1, size(y) 12 1\n"
     ]
    }
   ],
   "source": [
    "fprintf('size([ones(m, 1) X] %d %d, size(theta) %d %d, size(y) %d %d\\n', size([ones(m, 1) X]), size(theta), size(y))"
   ]
  },
  {
   "cell_type": "markdown",
   "metadata": {},
   "source": [
    "### Part 3. Train linear regression"
   ]
  },
  {
   "cell_type": "code",
   "execution_count": 60,
   "metadata": {},
   "outputs": [
    {
     "name": "stdout",
     "output_type": "stream",
     "text": [
      "Iteration     7 | Cost: 2.237391e+01\n"
     ]
    }
   ],
   "source": [
    "lambda = 0;\n",
    "[theta] = trainLinearReg([ones(m, 1) X], y, lambda);"
   ]
  },
  {
   "cell_type": "code",
   "execution_count": 66,
   "metadata": {},
   "outputs": [
    {
     "data": {
      "image/png": "[encoded data removed]",
      "text/plain": [
       "<IPython.core.display.Image object>"
      ]
     },
     "metadata": {},
     "output_type": "display_data"
    }
   ],
   "source": [
    "plot(X, y, 'rx', 'MarkerSize', 10, 'LineWidth', 1.5);\n",
    "xlabel('Change in water level (x)');\n",
    "ylabel('Water flowing out of the dam (y)');\n",
    "hold on;\n",
    "plot(X, [ones(m, 1) X]*theta, '--', 'LineWidth', 2)\n",
    "hold off;"
   ]
  },
  {
   "cell_type": "markdown",
   "metadata": {},
   "source": [
    "### Part 5: Learning Curve for Linear Regression"
   ]
  },
  {
   "cell_type": "code",
   "execution_count": 93,
   "metadata": {},
   "outputs": [
    {
     "name": "stdout",
     "output_type": "stream",
     "text": [
      "Iteration     3 | Cost: 0.000000e+00\n",
      "Iteration     3 | Cost: 9.860761e-32\n",
      "Iteration     3 | Cost: 3.286595e+00\n",
      "Iteration    13 | Cost: 2.842678e+00\n",
      "Iteration    22 | Cost: 1.315405e+01\n",
      "Iteration    26 | Cost: 1.944396e+01\n",
      "Iteration    13 | Cost: 2.009852e+01\n",
      "Iteration    18 | Cost: 1.817286e+01\n",
      "Iteration     7 | Cost: 2.260941e+01\n",
      "Iteration    39 | Cost: 2.326146e+01\n",
      "Iteration    12 | Cost: 2.431725e+01\n",
      "Iteration     7 | Cost: 2.237391e+01\n"
     ]
    }
   ],
   "source": [
    "[error_train, error_val] = learningCurve([ones(m, 1) X], y, [ones(size(Xval, 1), 1) Xval], yval, lambda);"
   ]
  },
  {
   "cell_type": "code",
   "execution_count": 94,
   "metadata": {},
   "outputs": [
    {
     "name": "stdout",
     "output_type": "stream",
     "text": [
      "i 1, error_train(i) 0.000000, error_val(i) 205.121096\n",
      "i 2, error_train(i) 0.000000, error_val(i) 110.300366\n",
      "i 3, error_train(i) 3.286595, error_val(i) 45.010231\n",
      "i 4, error_train(i) 2.842678, error_val(i) 48.368911\n",
      "i 5, error_train(i) 13.154049, error_val(i) 35.865165\n"
     ]
    }
   ],
   "source": [
    "for i=1:5\n",
    "    fprintf('i %d, error_train(i) %f, error_val(i) %f\\n', i, error_train(i), error_val(i))\n",
    "end\n"
   ]
  },
  {
   "cell_type": "markdown",
   "metadata": {},
   "source": [
    "### Part 6: Feature Mapping for Polynomial Regression"
   ]
  },
  {
   "cell_type": "code",
   "execution_count": 96,
   "metadata": {},
   "outputs": [],
   "source": [
    "X_poly = polyFeatures(X, 8);"
   ]
  },
  {
   "cell_type": "code",
   "execution_count": 98,
   "metadata": {},
   "outputs": [
    {
     "name": "stdout",
     "output_type": "stream",
     "text": [
      "ans =\n",
      "\n",
      " Columns 1 through 6:\n",
      "\n",
      "  -4.8059e+01   2.3097e+03  -1.1100e+05   5.3345e+06  -2.5637e+08   1.2321e+10\n",
      "\n",
      " Columns 7 and 8:\n",
      "\n",
      "  -5.9212e+11   2.8457e+13\n",
      "\n"
     ]
    }
   ],
   "source": [
    "X_poly(5,:)"
   ]
  },
  {
   "cell_type": "code",
   "execution_count": 100,
   "metadata": {},
   "outputs": [],
   "source": [
    "lambda_vec = [0 0.001 0.003 0.01 0.03 0.1 0.3 1 3 10]';"
   ]
  },
  {
   "cell_type": "code",
   "execution_count": 106,
   "metadata": {},
   "outputs": [
    {
     "name": "stdout",
     "output_type": "stream",
     "text": [
      "ans = 10\n",
      "ans = 10\n"
     ]
    }
   ],
   "source": [
    "size(lambda_vec, 1)\n",
    "length(lambda_vec)\n"
   ]
  }
 ],
 "metadata": {
  "kernelspec": {
   "display_name": "Octave",
   "language": "octave",
   "name": "octave"
  },
  "language_info": {
   "file_extension": ".m",
   "help_links": [
    {
     "text": "GNU Octave",
     "url": "https://www.gnu.org/software/octave/support.html"
    },
    {
     "text": "Octave Kernel",
     "url": "https://github.com/Calysto/octave_kernel"
    },
    {
     "text": "MetaKernel Magics",
     "url": "https://metakernel.readthedocs.io/en/latest/source/README.html"
    }
   ],
   "mimetype": "text/x-octave",
   "name": "octave",
   "version": "6.2.0"
  }
 },
 "nbformat": 4,
 "nbformat_minor": 4
}
