{
 "cells": [
  {
   "cell_type": "markdown",
   "metadata": {},
   "source": [
    "### Machine Learning Online Class - Exercise 3 | Part 2: Neural Networks"
   ]
  },
  {
   "cell_type": "markdown",
   "metadata": {},
   "source": [
    "#### Setup the parameters I will use for this exercise"
   ]
  },
  {
   "cell_type": "code",
   "execution_count": 30,
   "metadata": {},
   "outputs": [],
   "source": [
    "input_layer_size  = 400;  % 20x20 Input Images of Digits\n",
    "hidden_layer_size = 25;   % 25 hidden units\n",
    "num_labels = 10;          % 10 labels, from 1 to 10   \n",
    "                          % (note that we have mapped \"0\" to label 10)"
   ]
  },
  {
   "cell_type": "markdown",
   "metadata": {},
   "source": [
    "#### load training data"
   ]
  },
  {
   "cell_type": "code",
   "execution_count": 31,
   "metadata": {},
   "outputs": [
    {
     "name": "stdout",
     "output_type": "stream",
     "text": [
      "size X = 5000 400: size y = 5000 1\n"
     ]
    }
   ],
   "source": [
    "load('ex3data1.mat');\n",
    "fprintf('size X = %d %d: size y = %d %d\\n', size(X), size(y))\n",
    "m = size(X, 1);"
   ]
  },
  {
   "cell_type": "markdown",
   "metadata": {},
   "source": [
    "#### randomly select 100 data points to display"
   ]
  },
  {
   "cell_type": "code",
   "execution_count": 32,
   "metadata": {},
   "outputs": [
    {
     "data": {
      "image/png": "[encoded data removed]",
      "text/plain": [
       "<IPython.core.display.Image object>"
      ]
     },
     "metadata": {},
     "output_type": "display_data"
    }
   ],
   "source": [
    "sel = randperm(size(X, 1));\n",
    "sel = sel(1:100);\n",
    "graphics_toolkit ('gnuplot'); % because I'm running octave in jupyter lab\n",
    "displayData(X(sel, :));"
   ]
  },
  {
   "cell_type": "markdown",
   "metadata": {},
   "source": [
    "#### Part 2. We load some pre-initialized neural network parameters"
   ]
  },
  {
   "cell_type": "code",
   "execution_count": 36,
   "metadata": {},
   "outputs": [
    {
     "name": "stdout",
     "output_type": "stream",
     "text": [
      "size Theta1 = 25 401: size Theta2 = 10 26\n"
     ]
    }
   ],
   "source": [
    "load('ex3weights.mat');\n",
    "fprintf('size Theta1 = %d %d: size Theta2 = %d %d\\n', size(Theta1), size(Theta2))"
   ]
  },
  {
   "cell_type": "markdown",
   "metadata": {},
   "source": [
    "#### function predict step by step"
   ]
  },
  {
   "cell_type": "markdown",
   "metadata": {},
   "source": [
    "##### layer2 (hidden layer)"
   ]
  },
  {
   "cell_type": "code",
   "execution_count": 53,
   "metadata": {},
   "outputs": [
    {
     "name": "stdout",
     "output_type": "stream",
     "text": [
      "size Theta1 = 25 401: size a2 = 25 5000\n"
     ]
    }
   ],
   "source": [
    "m = size(X, 1);\n",
    "num_labels = size(Theta1, 1);\n",
    "X_plus_1col = [ones(m, 1) X];\n",
    "z2 = Theta1 * X_plus_1col';\n",
    "a2 = sigmoid(z2);\n",
    "fprintf('size Theta1 = %d %d: size a2 = %d %d\\n', size(Theta1), size(a2))"
   ]
  },
  {
   "cell_type": "code",
   "execution_count": 54,
   "metadata": {},
   "outputs": [
    {
     "name": "stdout",
     "output_type": "stream",
     "text": [
      "size Theta2 = 10 26: a2 = 25 5000\n"
     ]
    }
   ],
   "source": [
    "fprintf('size Theta2 = %d %d: a2 = %d %d\\n', size(Theta2), size(a2))"
   ]
  },
  {
   "cell_type": "code",
   "execution_count": 55,
   "metadata": {},
   "outputs": [
    {
     "name": "stdout",
     "output_type": "stream",
     "text": [
      "size p1 = 5000 1\n"
     ]
    }
   ],
   "source": [
    "[p1] = predictOneVsAll(Theta2, a2');\n",
    "fprintf('size p1 = %d %d\\n', size(p1));"
   ]
  },
  {
   "cell_type": "code",
   "execution_count": 58,
   "metadata": {},
   "outputs": [
    {
     "name": "stdout",
     "output_type": "stream",
     "text": [
      "size p2 = 5000 1\n"
     ]
    }
   ],
   "source": [
    "p2 = predict(Theta1, Theta2, X);\n",
    "fprintf('size p2 = %d %d\\n', size(p2));"
   ]
  },
  {
   "cell_type": "code",
   "execution_count": 60,
   "metadata": {},
   "outputs": [
    {
     "name": "stdout",
     "output_type": "stream",
     "text": [
      "Step by step predictions in this file\n",
      "num right predictions: 97.520000\n",
      "Predictions using function predict\n",
      "num right predictions: 97.520000\n"
     ]
    }
   ],
   "source": [
    "for i=1:2\n",
    "    test=zeros(5000,1);\n",
    "    if  i == 1\n",
    "        fprintf('Step by step predictions in this file\\n')\n",
    "        test = (y==p1);\n",
    "    else\n",
    "        fprintf('Predictions using function predict\\n')\n",
    "        test = (y==p2);\n",
    "    endif \n",
    "    fprintf('num right predictions: %f\\n', 100*sum(test)/5000)\n",
    "end"
   ]
  }
 ],
 "metadata": {
  "kernelspec": {
   "display_name": "Octave",
   "language": "octave",
   "name": "octave"
  },
  "language_info": {
   "file_extension": ".m",
   "help_links": [
    {
     "text": "GNU Octave",
     "url": "https://www.gnu.org/software/octave/support.html"
    },
    {
     "text": "Octave Kernel",
     "url": "https://github.com/Calysto/octave_kernel"
    },
    {
     "text": "MetaKernel Magics",
     "url": "https://metakernel.readthedocs.io/en/latest/source/README.html"
    }
   ],
   "mimetype": "text/x-octave",
   "name": "octave",
   "version": "6.1.0"
  }
 },
 "nbformat": 4,
 "nbformat_minor": 4
}
